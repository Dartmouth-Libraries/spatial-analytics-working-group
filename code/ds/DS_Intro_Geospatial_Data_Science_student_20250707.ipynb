{
  "nbformat": 4,
  "nbformat_minor": 0,
  "metadata": {
    "colab": {
      "provenance": []
    },
    "kernelspec": {
      "name": "python3",
      "display_name": "Python 3"
    },
    "language_info": {
      "name": "python"
    }
  },
  "cells": [
    {
      "cell_type": "markdown",
      "source": [
        "## Welcome to Geographic Data Science!\n",
        "### Geographic Information Systems, GIS, Geospatial analysis\n",
        "- This morning's goal: introduce concepts, import libraries\n",
        "- This afternoon's goal: work with spatial datasets, mini-spatial project"
      ],
      "metadata": {
        "id": "T8VBJgCO7Rkg"
      }
    },
    {
      "cell_type": "code",
      "source": [
        "# version 2025.07.07\n",
        "# updated July 8 2025\n",
        "import pandas as pd\n",
        "import os"
      ],
      "metadata": {
        "id": "Txz_OY9o8MqN"
      },
      "execution_count": null,
      "outputs": []
    },
    {
      "cell_type": "markdown",
      "source": [
        "- pandas data frames contain rows of observations or features, and columns of attributes that describe those features\n",
        "- **geopandas** data frames contain rows of observations or features, with columns of attributes, and one specialized column that stores the geographic attributes of the feature\n",
        "- this **geometry** column can contain:\n",
        "    - coordinate points\n",
        "    - coordinates that form a line or 'polyline' feature\n",
        "    - coordinates that form a shape (polygon)"
      ],
      "metadata": {
        "id": "YUlttwgE7WVB"
      }
    },
    {
      "cell_type": "code",
      "source": [
        "# plot a basic coordinate pair\n",
        "\n",
        "import matplotlib.pyplot as plt\n",
        "\n",
        "# define the coordinate pair\n",
        "coordinates = (43.704, -72.29127)\n",
        "\n",
        "# Plot the coordinate using matplotlib\n",
        "plt.scatter(coordinates[1], coordinates[0], color='blue')  # Longitude first, then Latitude\n",
        "plt.text(coordinates[1], coordinates[0], '(Point 1)')\n",
        "plt.show()"
      ],
      "metadata": {
        "colab": {
          "base_uri": "https://localhost:8080/",
          "height": 430
        },
        "id": "XiIMegMEDEnn",
        "outputId": "7dc226a1-4fa3-459c-ca43-61b1c90f9b44"
      },
      "execution_count": null,
      "outputs": [
        {
          "output_type": "display_data",
          "data": {
            "text/plain": [
              "<Figure size 640x480 with 1 Axes>"
            ],
            "image/png": "[encoded data removed]"
          },
          "metadata": {}
        }
      ]
    },
    {
      "cell_type": "markdown",
      "source": [
        "Exercise:\n",
        "Visit the \"Folium\" website [https://pypi.org/project/folium/](https://pypi.org/project/folium/) and answer the question: What is this Python library designed to do? ___ ___ ___ ___\n"
      ],
      "metadata": {
        "id": "unDvfusSDr3v"
      }
    },
    {
      "cell_type": "code",
      "source": [
        "# import the folium library here:\n",
        "import _____________"
      ],
      "metadata": {
        "id": "zrvMR9O0EP89"
      },
      "execution_count": null,
      "outputs": []
    },
    {
      "cell_type": "markdown",
      "source": [
        "**Exercise**:\n",
        "\n",
        "enter the coordinate values from above to define the variable 'coordinate', and then:\n",
        "\n",
        "Plot using Folium, a Python library with tools to plot coordinates on existing base maps, such as [Open Street Map](https://www.openstreetmap.org/#map=5/39.572/-75.125) ( https://www.openstreetmap.org/#map=5/39.572/-75.125 )"
      ],
      "metadata": {
        "id": "u7LH4KEBDQKM"
      }
    },
    {
      "cell_type": "code",
      "source": [
        "# pip install folium"
      ],
      "metadata": {
        "id": "WxUO3z6Pgyyx"
      },
      "execution_count": null,
      "outputs": []
    },
    {
      "cell_type": "code",
      "source": [
        "# Import folium for simple mapping and base map data\n",
        "import folium\n",
        "\n",
        "# Define the coordinate (latitude, longitude)\n",
        "coordinates =  ______________\n",
        "\n",
        "# Plot the coordinate using folium\n",
        "# Create a map centered around the coordinate\n",
        "m = folium.Map(location=coordinates, zoom_start=16)\n",
        "\n",
        "# Add a marker to the map\n",
        "folium.Marker(coordinates, popup='Point 1').add_to(m)\n",
        "\n",
        "m"
      ],
      "metadata": {
        "id": "hRn1n8_gDOzo"
      },
      "execution_count": null,
      "outputs": []
    },
    {
      "cell_type": "markdown",
      "source": [
        "**Exercise**:\n",
        "\n",
        "Plot a point with a 'popup' box at the equator\n",
        "\n",
        "Answer the following:  when you click the marker point, what happens/what is displayed? ___ ___ ____ ____"
      ],
      "metadata": {
        "id": "soC_ZJdeEhe2"
      }
    },
    {
      "cell_type": "code",
      "source": [
        "# 'json' is an open data format that is very useful in data science\n",
        "# import the 'json library here:\n",
        "\n",
        "\n",
        "import _________\n",
        "\n"
      ],
      "metadata": {
        "id": "XRdSsmYmEjSu"
      },
      "execution_count": null,
      "outputs": []
    },
    {
      "cell_type": "code",
      "source": [
        "# 'geojson' is a special format of json, built for use in geospatial data science, https://pypi.org/project/geojson/\n",
        "\n",
        "# import the 'geojson library here:\n",
        "\n",
        "#pip install geojson\n",
        "\n",
        "import _________"
      ],
      "metadata": {
        "id": "bU3i3x2kEkHq"
      },
      "execution_count": null,
      "outputs": []
    },
    {
      "cell_type": "code",
      "source": [],
      "metadata": {
        "id": "Q4DA6en2EkE4"
      },
      "execution_count": null,
      "outputs": []
    },
    {
      "cell_type": "code",
      "source": [
        "import folium\n",
        "import json\n",
        "# define location in GeoJSON format(using geojson.io) and extract coordinates data\n",
        "\n",
        "# copy in spatial data, from a single point created with\n",
        "# https://geojson.io/\n",
        "\n",
        "geojson_data =  ________\n",
        "\n",
        "coordinates = geojson_data['features'][0]['geometry']['coordinates']\n",
        "latitude = coordinates[1]\n",
        "longitude = coordinates[0]\n",
        "# visualize: create a map centered around the point, Add the point to the map and display\n",
        "m = folium.Map(location=[____, _____], zoom_start=15)\n",
        "folium.Marker([_____, ______]).add_to(m)\n",
        "m\n",
        "# it is also possible to save the map to an html file, rather than display it in the Jupyter notebook:\n",
        "# m.save(\"map.html\")"
      ],
      "metadata": {
        "id": "QbEvI0w7Ej_g"
      },
      "execution_count": null,
      "outputs": []
    },
    {
      "cell_type": "code",
      "source": [
        "import pandas as pd\n",
        "data = {\n",
        "  \"calories\": [420, 380, 390],\n",
        "  \"duration\": [50, 40, 45]\n",
        "}\n",
        "#load data into a DataFrame object:\n",
        "df = pd.DataFrame(data)\n",
        "print(df)\n"
      ],
      "metadata": {
        "colab": {
          "base_uri": "https://localhost:8080/"
        },
        "id": "NNIP2eFCEj8Z",
        "outputId": "591739d1-7b05-473f-8850-99a969cc36b1"
      },
      "execution_count": null,
      "outputs": [
        {
          "output_type": "stream",
          "name": "stdout",
          "text": [
            "   calories  duration\n",
            "0       420        50\n",
            "1       380        40\n",
            "2       390        45\n"
          ]
        }
      ]
    },
    {
      "cell_type": "code",
      "source": [
        "#pip install geopandas"
      ],
      "metadata": {
        "id": "R1UwTgvt7dDe"
      },
      "execution_count": null,
      "outputs": []
    },
    {
      "cell_type": "markdown",
      "source": [
        "## Exercise:\n",
        "extract and load a geospatial dataset using the 'GeoPandas' library"
      ],
      "metadata": {
        "id": "-gmIif-H7nmV"
      }
    },
    {
      "cell_type": "code",
      "source": [
        "import geopandas as gpd\n",
        "from shapely.geometry import Point\n",
        "\n",
        "# List of cities with their coordinates\n",
        "cities = {\n",
        "    'City': ['Boston', 'New York', 'Washington D.C.'],\n",
        "    'Latitude': [42.3601, 40.7128, 38.9072],\n",
        "    'Longitude': [-71.0589, -74.0060, -77.0369]\n",
        "}\n",
        "\n",
        "# Creating a GeoDataFrame\n",
        "geometry = [Point(xy) for xy in zip(cities['Longitude'], cities['Latitude'])]\n",
        "geo_df = gpd.GeoDataFrame(cities, geometry=geometry)\n",
        "\n",
        "print(geo_df)\n"
      ],
      "metadata": {
        "colab": {
          "base_uri": "https://localhost:8080/"
        },
        "id": "SWzep-YoEj2V",
        "outputId": "d9b6ebc0-aa72-434d-c7f0-603f325c4e02"
      },
      "execution_count": null,
      "outputs": [
        {
          "output_type": "stream",
          "name": "stdout",
          "text": [
            "              City  Latitude  Longitude                  geometry\n",
            "0           Boston   42.3601   -71.0589  POINT (-71.0589 42.3601)\n",
            "1         New York   40.7128   -74.0060   POINT (-74.006 40.7128)\n",
            "2  Washington D.C.   38.9072   -77.0369  POINT (-77.0369 38.9072)\n"
          ]
        }
      ]
    },
    {
      "cell_type": "code",
      "source": [
        "# Initialize a map centered on the northeastern US\n",
        "m = folium.Map(location=[41, -74], zoom_start=6)\n",
        "\n",
        "# Add points to the map\n",
        "for idx, row in geo_df.iterrows():\n",
        "    folium.Marker([row['Latitude'], row['Longitude']], popup=row['City']).add_to(m)\n",
        "\n",
        "# Display the map\n",
        "m"
      ],
      "metadata": {
        "id": "4-DmR89kEjuU"
      },
      "execution_count": null,
      "outputs": []
    },
    {
      "cell_type": "code",
      "source": [
        "path = os.getcwd()\n",
        "print(path)"
      ],
      "metadata": {
        "id": "q3_N-ne5hH5j",
        "colab": {
          "base_uri": "https://localhost:8080/"
        },
        "outputId": "c0352e15-e655-4cd0-f7dc-1a8c6ab1109f"
      },
      "execution_count": null,
      "outputs": [
        {
          "output_type": "stream",
          "name": "stdout",
          "text": [
            "/content\n"
          ]
        }
      ]
    },
    {
      "cell_type": "code",
      "source": [
        "# for jhub 2025-07-07:\n",
        "\n",
        "# %%\n",
        "path = os.getcwd()\n",
        "\n",
        "# %%\n",
        "print(path)\n",
        "\n",
        "# %%\n",
        "animal_sightings_df = pd.read_csv('/home/jovyan/shared/DSS/day7-am/data/animal-sightings.csv')\n",
        "animal_sightings_df.head(3)\n"
      ],
      "metadata": {
        "id": "hiRYn7lgP3-a"
      },
      "execution_count": null,
      "outputs": []
    },
    {
      "cell_type": "code",
      "source": [
        "import matplotlib.pyplot as plt\n",
        "\n",
        "# %%\n",
        "\n",
        "plt.scatter(animal_sightings_df['longitude'], animal_sightings_df['latitude'], alpha=0.5, edgecolors='w', s=100)\n",
        "# Show the plot\n",
        "plt.show()\n"
      ],
      "metadata": {
        "id": "9z6LCm2JTi2s"
      },
      "execution_count": null,
      "outputs": []
    },
    {
      "cell_type": "code",
      "source": [
        "import geopandas as gpd\n",
        "import pandas as pd\n",
        "from shapely.geometry import Point\n",
        "import folium\n",
        "\n",
        "# use geojson.io to get the remaining state capitals for Maine, NH, VT,\n",
        "\n",
        "# Define a dictionary with state capitals\n",
        "state_capitals = {\n",
        "    __________________,\n",
        "    'New Hampshire': {'city': 'Concord', 'lat': 43.2109, 'lon': -71.5323},\n",
        "    ____________________,\n",
        "    'Massachusetts': {'city': 'Boston', 'lat': 42.3584, 'lon': -71.0596},\n",
        "    ____________________,\n",
        "    'Connecticut': {'city': 'Hartford', 'lat': 41.7654, 'lon': -72.6770}\n",
        "}\n",
        "\n",
        "# Create a list to store the GeoDataFrame rows\n",
        "data = []\n",
        "\n",
        "# Iterate over the state capitals dictionary\n",
        "for state, info in state_capitals.items():\n",
        "    # Create a Point object using the latitude and longitude\n",
        "    point = Point(info['lon'], info['lat'])\n",
        "\n",
        "    # Append a dictionary with the state, city, and point to the data list\n",
        "    data.append({\n",
        "        'State': state,\n",
        "        'City': info['city'],\n",
        "        'geometry': point\n",
        "    })\n",
        "\n",
        "# Convert the data list to a GeoDataFrame\n",
        "gdf = gpd.GeoDataFrame(data, geometry='geometry', crs='EPSG:4326')\n",
        "\n",
        "# Print the GeoDataFrame\n",
        "print(gdf)\n",
        "\n",
        "# Create a Folium map with the state capitals\n",
        "map = folium.Map(location=[44.0042, -71.3333], zoom_start=7)\n",
        "\n",
        "# Iterate over the GeoDataFrame rows and add markers to the map\n",
        "# use the correct fields for the popup\n",
        "for index, row in gdf.iterrows():\n",
        "    folium.Marker(\n",
        "        location=[row['geometry'].y, row['geometry'].x],\n",
        "        popup=f\"{row[_________]}: {row[_____]}\"\n",
        "    ).add_to(map)\n",
        "\n",
        "# Save the map as an HTML file\n",
        "#map.save('new_england_state_capitals.html')\n",
        "#show the map\n",
        "map"
      ],
      "metadata": {
        "id": "VeXvaOmBHTgz"
      },
      "execution_count": null,
      "outputs": []
    },
    {
      "cell_type": "code",
      "source": [
        "# geocode a street address\n",
        "from geopy.geocoders import Nominatim\n",
        "\n",
        "# Instantiate the Nominatim geolocator\n",
        "geolocator = Nominatim(user_agent=\"my_geocoder_app\") # Replace with a unique user agent\n",
        "\n",
        "# Geocode an address\n",
        "address = \"1600 Amphitheatre Parkway, Mountain View, CA\"\n",
        "location = geolocator.geocode(address)\n",
        "\n",
        "if location:\n",
        "    print(f\"Address: {location.address}\")\n",
        "    print(f\"Latitude: {location.latitude}\")\n",
        "    print(f\"Longitude: {location.longitude}\")\n",
        "else:\n",
        "    print(\"Address not found.\")\n",
        "\n",
        "map = folium.Map(location=[location.latitude, location.longitude], zoom_start=15)\n",
        "folium.Marker([location.latitude, location.longitude], popup=address).add_to(map)\n",
        "map"
      ],
      "metadata": {
        "id": "lPkmKeSSH_jy"
      },
      "execution_count": null,
      "outputs": []
    }
  ]
}